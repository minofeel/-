{
  "nbformat": 4,
  "nbformat_minor": 0,
  "metadata": {
    "colab": {
      "provenance": [],
      "authorship_tag": "ABX9TyN8m144RfA76MNqV9YLqaZe",
      "include_colab_link": true
    },
    "kernelspec": {
      "name": "python3",
      "display_name": "Python 3"
    },
    "language_info": {
      "name": "python"
    }
  },
  "cells": [
    {
      "cell_type": "markdown",
      "metadata": {
        "id": "view-in-github",
        "colab_type": "text"
      },
      "source": [
        "<a href=\"https://colab.research.google.com/github/minofeel/-/blob/main/tiny_gp_plus.ipynb\" target=\"_parent\"><img src=\"https://colab.research.google.com/assets/colab-badge.svg\" alt=\"Open In Colab\"/></a>"
      ]
    },
    {
      "cell_type": "code",
      "execution_count": 1,
      "metadata": {
        "id": "Z-M3gpBQcuAi"
      },
      "outputs": [],
      "source": [
        "# tiny genetic programming plus, by © moshe sipper, www.moshesipper.com\n",
        "# graphic output, dynamic progress display, bloat-control option\n",
        "# need to install https://pypi.org/project/graphviz/\n",
        "\n",
        "from random import random, randint, seed\n",
        "from statistics import mean\n",
        "from copy import deepcopy\n",
        "import matplotlib.pyplot as plt\n",
        "from IPython.display import Image, display\n",
        "from graphviz import Digraph, Source\n",
        "\n",
        "POP_SIZE        = 60    # population size\n",
        "MIN_DEPTH       = 2     # minimal initial random tree depth\n",
        "MAX_DEPTH       = 5     # maximal initial random tree depth\n",
        "GENERATIONS     = 250   # maximal number of generations to run evolution\n",
        "TOURNAMENT_SIZE = 5     # size of tournament for tournament selection\n",
        "XO_RATE         = 0.8   # crossover rate\n",
        "PROB_MUTATION   = 0.2   # per-node mutation probability\n",
        "BLOAT_CONTROL   = False # True adds bloat control to fitness function\n",
        "\n",
        "def add(x, y): return x + y\n",
        "def sub(x, y): return x - y\n",
        "def mul(x, y): return x * y\n",
        "FUNCTIONS = [add, sub, mul]\n",
        "TERMINALS = ['x', -2, -1, 0, 1, 2]\n",
        "\n",
        "def target_func(x): # evolution's target\n",
        "    return x*x*x*x + x*x*x + x*x + x + 1\n",
        "\n",
        "def generate_dataset(): # generate 101 data points from target_func\n",
        "    dataset = []\n",
        "    for x in range(-100,101,2):\n",
        "        x /= 100\n",
        "        dataset.append([x, target_func(x)])\n",
        "    return dataset\n"
      ]
    },
    {
      "cell_type": "code",
      "source": [
        "class GPTree:\n",
        "    def __init__(self, data = None, left = None, right = None):\n",
        "        self.data  = data\n",
        "        self.left  = left\n",
        "        self.right = right\n",
        "\n",
        "    def node_label(self): # return string label\n",
        "        if (self.data in FUNCTIONS):\n",
        "            return self.data.__name__\n",
        "        else:\n",
        "            return str(self.data)\n",
        "\n",
        "    def draw(self, dot, count): # dot & count are lists in order to pass \"by reference\"\n",
        "        node_name = str(count[0])\n",
        "        dot[0].node(node_name, self.node_label())\n",
        "        if self.left:\n",
        "            count[0] += 1\n",
        "            dot[0].edge(node_name, str(count[0]))\n",
        "            self.left.draw(dot, count)\n",
        "        if self.right:\n",
        "            count[0] += 1\n",
        "            dot[0].edge(node_name, str(count[0]))\n",
        "            self.right.draw(dot, count)\n",
        "\n",
        "    def draw_tree(self, fname, footer):\n",
        "      dot = [Digraph()]\n",
        "      dot[0].attr(kw='graph', label=footer)\n",
        "      count = [0]\n",
        "      self.draw(dot, count)\n",
        "      dot[0].render(filename=fname, format=\"png\")  # 수정된 부분\n",
        "      display(Image(filename=fname + \".png\"))      # 이미지 파일 경로 수정\n",
        "\n",
        "    def compute_tree(self, x):\n",
        "        if (self.data in FUNCTIONS):\n",
        "            return self.data(self.left.compute_tree(x), self.right.compute_tree(x))\n",
        "        elif self.data == 'x': return x\n",
        "        else: return self.data\n",
        "\n",
        "    def random_tree(self, grow, max_depth, depth = 0): # create random tree using either grow or full method\n",
        "        if depth < MIN_DEPTH or (depth < max_depth and not grow):\n",
        "            self.data = FUNCTIONS[randint(0, len(FUNCTIONS)-1)]\n",
        "        elif depth >= max_depth:\n",
        "            self.data = TERMINALS[randint(0, len(TERMINALS)-1)]\n",
        "        else: # intermediate depth, grow\n",
        "            if random () > 0.5:\n",
        "                self.data = TERMINALS[randint(0, len(TERMINALS)-1)]\n",
        "            else:\n",
        "                self.data = FUNCTIONS[randint(0, len(FUNCTIONS)-1)]\n",
        "        if self.data in FUNCTIONS:\n",
        "            self.left = GPTree()\n",
        "            self.left.random_tree(grow, max_depth, depth = depth + 1)\n",
        "            self.right = GPTree()\n",
        "            self.right.random_tree(grow, max_depth, depth = depth + 1)\n",
        "\n",
        "    def mutation(self):\n",
        "        if random() < PROB_MUTATION: # mutate at this node\n",
        "            self.random_tree(grow = True, max_depth = 2)\n",
        "        elif self.left: self.left.mutation()\n",
        "        elif self.right: self.right.mutation()\n",
        "\n",
        "#    def depth(self):\n",
        "#        if self.data in TERMINALS: return 0\n",
        "#        l = self.left.depth()  if self.left  else 0\n",
        "#        r = self.right.depth() if self.right else 0\n",
        "#        return 1 + max(l, r)\n",
        "\n",
        "    def size(self): # tree size in nodes\n",
        "        if self.data in TERMINALS: return 1\n",
        "        l = self.left.size()  if self.left  else 0\n",
        "        r = self.right.size() if self.right else 0\n",
        "        return 1 + l + r\n",
        "\n",
        "    def build_subtree(self): # count is list in order to pass \"by reference\"\n",
        "        t = GPTree()\n",
        "        t.data = self.data\n",
        "        if self.left:  t.left  = self.left.build_subtree()\n",
        "        if self.right: t.right = self.right.build_subtree()\n",
        "        return t\n",
        "\n",
        "    def scan_tree(self, count, second): # note: count is list, so it's passed \"by reference\"\n",
        "        count[0] -= 1\n",
        "        if count[0] <= 1:\n",
        "            if not second: # return subtree rooted here\n",
        "                return self.build_subtree()\n",
        "            else: # glue subtree here\n",
        "                self.data  = second.data\n",
        "                self.left  = second.left\n",
        "                self.right = second.right\n",
        "        else:\n",
        "            ret = None\n",
        "            if self.left  and count[0] > 1: ret = self.left.scan_tree(count, second)\n",
        "            if self.right and count[0] > 1: ret = self.right.scan_tree(count, second)\n",
        "            return ret\n",
        "\n",
        "    def crossover(self, other): # xo 2 trees at random nodes\n",
        "        if random() < XO_RATE:\n",
        "            second = other.scan_tree([randint(1, other.size())], None) # 2nd random subtree\n",
        "            self.scan_tree([randint(1, self.size())], second) # 2nd subtree \"glued\" inside 1st tree\n",
        "# end class GPTree"
      ],
      "metadata": {
        "id": "m3wAjWWbdOVj"
      },
      "execution_count": 5,
      "outputs": []
    },
    {
      "cell_type": "code",
      "source": [
        "def init_population(): # ramped half-and-half\n",
        "    pop = []\n",
        "    for md in range(3, MAX_DEPTH + 1):\n",
        "        for i in range(int(POP_SIZE/6)):\n",
        "            t = GPTree()\n",
        "            t.random_tree(grow = True, max_depth = md) # grow\n",
        "            pop.append(t)\n",
        "        for i in range(int(POP_SIZE/6)):\n",
        "            t = GPTree()\n",
        "            t.random_tree(grow = False, max_depth = md) # full\n",
        "            pop.append(t)\n",
        "    return pop\n",
        "\n",
        "def error(individual, dataset):\n",
        "    return mean([abs(individual.compute_tree(ds[0]) - ds[1]) for ds in dataset])\n",
        "\n",
        "def fitness(individual, dataset):\n",
        "    if BLOAT_CONTROL:\n",
        "        return 1 / (1 + error(individual, dataset) + 0.01*individual.size())\n",
        "    else:\n",
        "        return 1 / (1 + error(individual, dataset))\n",
        "\n",
        "def selection(population, fitnesses): # select one individual using tournament selection\n",
        "    tournament = [randint(0, len(population)-1) for i in range(TOURNAMENT_SIZE)] # select tournament contenders\n",
        "    tournament_fitnesses = [fitnesses[tournament[i]] for i in range(TOURNAMENT_SIZE)]\n",
        "    return deepcopy(population[tournament[tournament_fitnesses.index(max(tournament_fitnesses))]])\n",
        "\n",
        "def prepare_plots():\n",
        "    fig, axarr = plt.subplots(2, sharex=True)\n",
        "    # fig.canvas.set_window_title('EVOLUTIONARY PROGRESS')  # 제거\n",
        "    fig.subplots_adjust(hspace = 0.5)\n",
        "    axarr[0].set_title('error', fontsize=14)\n",
        "    axarr[1].set_title('mean size', fontsize=14)\n",
        "    plt.xlabel('generation', fontsize=18)\n",
        "    plt.ion()  # interactive mode for plot\n",
        "    axarr[0].set_xlim(0, GENERATIONS)\n",
        "    axarr[0].set_ylim(0, 1)  # fitness range\n",
        "    xdata = []\n",
        "    ydata = [[], []]\n",
        "    line = [None, None]\n",
        "    line[0], = axarr[0].plot(xdata, ydata[0], 'b-')  # 'b-' = blue line\n",
        "    line[1], = axarr[1].plot(xdata, ydata[1], 'r-')  # 'r-' = red line\n",
        "    return axarr, line, xdata, ydata\n",
        "\n",
        "def plot(axarr, line, xdata, ydata, gen, pop, errors, max_mean_size):\n",
        "    xdata.append(gen)\n",
        "    ydata[0].append(min(errors))\n",
        "    line[0].set_xdata(xdata)\n",
        "    line[0].set_ydata(ydata[0])\n",
        "\n",
        "    sizes = [ind.size() for ind in pop]\n",
        "    if mean(sizes) > max_mean_size[0]:\n",
        "        max_mean_size[0] = mean(sizes)\n",
        "        axarr[1].set_ylim(0, max_mean_size[0])\n",
        "\n",
        "    ydata[1].append(mean(sizes))\n",
        "    line[1].set_xdata(xdata)\n",
        "    line[1].set_ydata(ydata[1])\n",
        "\n",
        "    plt.draw()\n",
        "    plt.pause(0.01)\n",
        "\n",
        "def main():\n",
        "    # init stuff\n",
        "    seed() # init internal state of random number generator\n",
        "    dataset = generate_dataset()\n",
        "    population= init_population()\n",
        "    best_of_run = None\n",
        "    best_of_run_error = 1e20\n",
        "    best_of_run_gen = 0\n",
        "    fitnesses = [fitness(ind, dataset) for ind in population]\n",
        "    max_mean_size = [0] # track maximal mean size for plotting\n",
        "    axarr, line, xdata, ydata = prepare_plots()\n",
        "\n",
        "    # go evolution!\n",
        "    for gen in range(GENERATIONS):\n",
        "        nextgen_population=[]\n",
        "        for i in range(POP_SIZE):\n",
        "            parent1 = selection(population, fitnesses)\n",
        "            parent2 = selection(population, fitnesses)\n",
        "            parent1.crossover(parent2)\n",
        "            parent1.mutation()\n",
        "            nextgen_population.append(parent1)\n",
        "        population=nextgen_population\n",
        "        fitnesses = [fitness(ind, dataset) for ind in population]\n",
        "        errors = [error(ind, dataset) for ind in population]\n",
        "        if min(errors) < best_of_run_error:\n",
        "            best_of_run_error = min(errors)\n",
        "            best_of_run_gen = gen\n",
        "            best_of_run = deepcopy(population[errors.index(min(errors))])\n",
        "            print(\"________________________\")\n",
        "            best_of_run.draw_tree(\"best_of_run\",\\\n",
        "                                  \"gen: \" + str(gen) + \", error: \" + str(round(best_of_run_error,3)))\n",
        "        plot(axarr, line, xdata, ydata, gen, population, errors, max_mean_size)\n",
        "        if best_of_run_error <= 1e-5: break\n",
        "        sizes = [ind.size() for ind in population]  # 트리 크기\n",
        "        # 디버깅 코드 추가\n",
        "        print(f\"Generation {gen}, Min Error: {min(errors)}, Mean Size: {mean(sizes)}\")\n",
        "\n",
        "        if min(errors) < best_of_run_error:\n",
        "          best_of_run_error = min(errors)\n",
        "          best_of_run_gen = gen\n",
        "          best_of_run = deepcopy(population[errors.index(min(errors))])\n",
        "          print(\"________________________\")\n",
        "          best_of_run.draw_tree(\"best_of_run\", \"gen: \" + str(gen) + \", error: \" + str(round(best_of_run_error, 3)))\n",
        "\n",
        "        plot(axarr, line, xdata, ydata, gen, population, errors, max_mean_size)\n",
        "\n",
        "        # 조기 종료 조건 디버깅 코드 추가\n",
        "        if best_of_run_error <= 1e-5:\n",
        "          print(f\"Early stop at generation {gen} with best error {best_of_run_error}\")\n",
        "          break\n",
        "\n",
        "    endrun = \"_________________________________________________\\nEND OF RUN (bloat control was \"\n",
        "    endrun += \"ON)\" if BLOAT_CONTROL else \"OFF)\"\n",
        "    print(endrun)\n",
        "    s = \"\\n\\nbest_of_run attained at gen \" + str(best_of_run_gen) + \" and has error=\" + str(round(best_of_run_error,3))\n",
        "    best_of_run.draw_tree(\"best_of_run\",s)\n",
        "\n",
        "if __name__== \"__main__\":\n",
        "  main()"
      ],
      "metadata": {
        "colab": {
          "base_uri": "https://localhost:8080/",
          "height": 1000
        },
        "id": "pB9Vw0Z5dTUj",
        "outputId": "cf74c549-d9f1-42cb-b68f-6e629605c7d7"
      },
      "execution_count": 7,
      "outputs": [
        {
          "output_type": "stream",
          "name": "stdout",
          "text": [
            "________________________\n"
          ]
        },
        {
          "output_type": "display_data",
          "data": {
            "image/png": "[encoded data removed]",
            "text/plain": [
              "<IPython.core.display.Image object>"
            ]
          },
          "metadata": {}
        },
        {
          "output_type": "display_data",
          "data": {
            "text/plain": [
              "<Figure size 640x480 with 2 Axes>"
            ],
            "image/png": "[encoded data removed]"
          },
          "metadata": {}
        },
        {
          "output_type": "stream",
          "name": "stdout",
          "text": [
            "Generation 0, Min Error: 0.5480528, Mean Size: 16.333333333333332\n"
          ]
        },
        {
          "output_type": "display_data",
          "data": {
            "text/plain": [
              "<Figure size 640x480 with 0 Axes>"
            ]
          },
          "metadata": {}
        },
        {
          "output_type": "display_data",
          "data": {
            "text/plain": [
              "<Figure size 640x480 with 0 Axes>"
            ]
          },
          "metadata": {}
        },
        {
          "output_type": "stream",
          "name": "stdout",
          "text": [
            "Generation 1, Min Error: 0.5480528, Mean Size: 15\n"
          ]
        },
        {
          "output_type": "display_data",
          "data": {
            "text/plain": [
              "<Figure size 640x480 with 0 Axes>"
            ]
          },
          "metadata": {}
        },
        {
          "output_type": "display_data",
          "data": {
            "text/plain": [
              "<Figure size 640x480 with 0 Axes>"
            ]
          },
          "metadata": {}
        },
        {
          "output_type": "stream",
          "name": "stdout",
          "text": [
            "Generation 2, Min Error: 0.5480528, Mean Size: 11.533333333333333\n"
          ]
        },
        {
          "output_type": "display_data",
          "data": {
            "text/plain": [
              "<Figure size 640x480 with 0 Axes>"
            ]
          },
          "metadata": {}
        },
        {
          "output_type": "display_data",
          "data": {
            "text/plain": [
              "<Figure size 640x480 with 0 Axes>"
            ]
          },
          "metadata": {}
        },
        {
          "output_type": "stream",
          "name": "stdout",
          "text": [
            "Generation 3, Min Error: 0.5480528, Mean Size: 10.433333333333334\n"
          ]
        },
        {
          "output_type": "display_data",
          "data": {
            "text/plain": [
              "<Figure size 640x480 with 0 Axes>"
            ]
          },
          "metadata": {}
        },
        {
          "output_type": "display_data",
          "data": {
            "text/plain": [
              "<Figure size 640x480 with 0 Axes>"
            ]
          },
          "metadata": {}
        },
        {
          "output_type": "stream",
          "name": "stdout",
          "text": [
            "Generation 4, Min Error: 0.5480528, Mean Size: 12.133333333333333\n"
          ]
        },
        {
          "output_type": "display_data",
          "data": {
            "text/plain": [
              "<Figure size 640x480 with 0 Axes>"
            ]
          },
          "metadata": {}
        },
        {
          "output_type": "display_data",
          "data": {
            "text/plain": [
              "<Figure size 640x480 with 0 Axes>"
            ]
          },
          "metadata": {}
        },
        {
          "output_type": "stream",
          "name": "stdout",
          "text": [
            "Generation 5, Min Error: 0.5480528, Mean Size: 11.4\n"
          ]
        },
        {
          "output_type": "display_data",
          "data": {
            "text/plain": [
              "<Figure size 640x480 with 0 Axes>"
            ]
          },
          "metadata": {}
        },
        {
          "output_type": "display_data",
          "data": {
            "text/plain": [
              "<Figure size 640x480 with 0 Axes>"
            ]
          },
          "metadata": {}
        },
        {
          "output_type": "stream",
          "name": "stdout",
          "text": [
            "Generation 6, Min Error: 0.5480528, Mean Size: 10.9\n"
          ]
        },
        {
          "output_type": "display_data",
          "data": {
            "text/plain": [
              "<Figure size 640x480 with 0 Axes>"
            ]
          },
          "metadata": {}
        },
        {
          "output_type": "display_data",
          "data": {
            "text/plain": [
              "<Figure size 640x480 with 0 Axes>"
            ]
          },
          "metadata": {}
        },
        {
          "output_type": "stream",
          "name": "stdout",
          "text": [
            "Generation 7, Min Error: 0.5480528, Mean Size: 7.666666666666667\n"
          ]
        },
        {
          "output_type": "display_data",
          "data": {
            "text/plain": [
              "<Figure size 640x480 with 0 Axes>"
            ]
          },
          "metadata": {}
        },
        {
          "output_type": "display_data",
          "data": {
            "text/plain": [
              "<Figure size 640x480 with 0 Axes>"
            ]
          },
          "metadata": {}
        },
        {
          "output_type": "stream",
          "name": "stdout",
          "text": [
            "Generation 8, Min Error: 0.5480528, Mean Size: 6.2\n"
          ]
        },
        {
          "output_type": "display_data",
          "data": {
            "text/plain": [
              "<Figure size 640x480 with 0 Axes>"
            ]
          },
          "metadata": {}
        },
        {
          "output_type": "display_data",
          "data": {
            "text/plain": [
              "<Figure size 640x480 with 0 Axes>"
            ]
          },
          "metadata": {}
        },
        {
          "output_type": "stream",
          "name": "stdout",
          "text": [
            "Generation 9, Min Error: 0.5480528, Mean Size: 5.666666666666667\n"
          ]
        },
        {
          "output_type": "display_data",
          "data": {
            "text/plain": [
              "<Figure size 640x480 with 0 Axes>"
            ]
          },
          "metadata": {}
        },
        {
          "output_type": "display_data",
          "data": {
            "text/plain": [
              "<Figure size 640x480 with 0 Axes>"
            ]
          },
          "metadata": {}
        },
        {
          "output_type": "stream",
          "name": "stdout",
          "text": [
            "Generation 10, Min Error: 0.5480528, Mean Size: 5.4\n"
          ]
        },
        {
          "output_type": "display_data",
          "data": {
            "text/plain": [
              "<Figure size 640x480 with 0 Axes>"
            ]
          },
          "metadata": {}
        },
        {
          "output_type": "display_data",
          "data": {
            "text/plain": [
              "<Figure size 640x480 with 0 Axes>"
            ]
          },
          "metadata": {}
        },
        {
          "output_type": "stream",
          "name": "stdout",
          "text": [
            "Generation 11, Min Error: 0.5480528, Mean Size: 4.866666666666666\n"
          ]
        },
        {
          "output_type": "display_data",
          "data": {
            "text/plain": [
              "<Figure size 640x480 with 0 Axes>"
            ]
          },
          "metadata": {}
        },
        {
          "output_type": "display_data",
          "data": {
            "text/plain": [
              "<Figure size 640x480 with 0 Axes>"
            ]
          },
          "metadata": {}
        },
        {
          "output_type": "stream",
          "name": "stdout",
          "text": [
            "Generation 12, Min Error: 0.5480528, Mean Size: 5.3\n"
          ]
        },
        {
          "output_type": "display_data",
          "data": {
            "text/plain": [
              "<Figure size 640x480 with 0 Axes>"
            ]
          },
          "metadata": {}
        },
        {
          "output_type": "display_data",
          "data": {
            "text/plain": [
              "<Figure size 640x480 with 0 Axes>"
            ]
          },
          "metadata": {}
        },
        {
          "output_type": "stream",
          "name": "stdout",
          "text": [
            "Generation 13, Min Error: 0.5480528, Mean Size: 6.066666666666666\n"
          ]
        },
        {
          "output_type": "display_data",
          "data": {
            "text/plain": [
              "<Figure size 640x480 with 0 Axes>"
            ]
          },
          "metadata": {}
        },
        {
          "output_type": "display_data",
          "data": {
            "text/plain": [
              "<Figure size 640x480 with 0 Axes>"
            ]
          },
          "metadata": {}
        },
        {
          "output_type": "stream",
          "name": "stdout",
          "text": [
            "Generation 14, Min Error: 0.5480528, Mean Size: 5.133333333333334\n"
          ]
        },
        {
          "output_type": "display_data",
          "data": {
            "text/plain": [
              "<Figure size 640x480 with 0 Axes>"
            ]
          },
          "metadata": {}
        },
        {
          "output_type": "display_data",
          "data": {
            "text/plain": [
              "<Figure size 640x480 with 0 Axes>"
            ]
          },
          "metadata": {}
        },
        {
          "output_type": "stream",
          "name": "stdout",
          "text": [
            "Generation 15, Min Error: 0.5480528, Mean Size: 4.933333333333334\n"
          ]
        },
        {
          "output_type": "display_data",
          "data": {
            "text/plain": [
              "<Figure size 640x480 with 0 Axes>"
            ]
          },
          "metadata": {}
        },
        {
          "output_type": "display_data",
          "data": {
            "text/plain": [
              "<Figure size 640x480 with 0 Axes>"
            ]
          },
          "metadata": {}
        },
        {
          "output_type": "stream",
          "name": "stdout",
          "text": [
            "Generation 16, Min Error: 0.5480528, Mean Size: 4.8\n"
          ]
        },
        {
          "output_type": "display_data",
          "data": {
            "text/plain": [
              "<Figure size 640x480 with 0 Axes>"
            ]
          },
          "metadata": {}
        },
        {
          "output_type": "display_data",
          "data": {
            "text/plain": [
              "<Figure size 640x480 with 0 Axes>"
            ]
          },
          "metadata": {}
        },
        {
          "output_type": "stream",
          "name": "stdout",
          "text": [
            "Generation 17, Min Error: 0.5480528, Mean Size: 6.1\n"
          ]
        },
        {
          "output_type": "display_data",
          "data": {
            "text/plain": [
              "<Figure size 640x480 with 0 Axes>"
            ]
          },
          "metadata": {}
        },
        {
          "output_type": "display_data",
          "data": {
            "text/plain": [
              "<Figure size 640x480 with 0 Axes>"
            ]
          },
          "metadata": {}
        },
        {
          "output_type": "stream",
          "name": "stdout",
          "text": [
            "Generation 18, Min Error: 0.5480528, Mean Size: 5.466666666666667\n"
          ]
        },
        {
          "output_type": "display_data",
          "data": {
            "text/plain": [
              "<Figure size 640x480 with 0 Axes>"
            ]
          },
          "metadata": {}
        },
        {
          "output_type": "display_data",
          "data": {
            "text/plain": [
              "<Figure size 640x480 with 0 Axes>"
            ]
          },
          "metadata": {}
        },
        {
          "output_type": "stream",
          "name": "stdout",
          "text": [
            "Generation 19, Min Error: 0.5480528, Mean Size: 5.333333333333333\n"
          ]
        },
        {
          "output_type": "display_data",
          "data": {
            "text/plain": [
              "<Figure size 640x480 with 0 Axes>"
            ]
          },
          "metadata": {}
        },
        {
          "output_type": "stream",
          "name": "stdout",
          "text": [
            "________________________\n"
          ]
        },
        {
          "output_type": "display_data",
          "data": {
            "image/png": "[encoded data removed]",
            "text/plain": [
              "<IPython.core.display.Image object>"
            ]
          },
          "metadata": {}
        },
        {
          "output_type": "display_data",
          "data": {
            "text/plain": [
              "<Figure size 640x480 with 0 Axes>"
            ]
          },
          "metadata": {}
        },
        {
          "output_type": "stream",
          "name": "stdout",
          "text": [
            "Generation 20, Min Error: 0.36121492277227724, Mean Size: 5.466666666666667\n"
          ]
        },
        {
          "output_type": "display_data",
          "data": {
            "text/plain": [
              "<Figure size 640x480 with 0 Axes>"
            ]
          },
          "metadata": {}
        },
        {
          "output_type": "display_data",
          "data": {
            "text/plain": [
              "<Figure size 640x480 with 0 Axes>"
            ]
          },
          "metadata": {}
        },
        {
          "output_type": "stream",
          "name": "stdout",
          "text": [
            "Generation 21, Min Error: 0.36121492277227724, Mean Size: 5.8\n"
          ]
        },
        {
          "output_type": "display_data",
          "data": {
            "text/plain": [
              "<Figure size 640x480 with 0 Axes>"
            ]
          },
          "metadata": {}
        },
        {
          "output_type": "display_data",
          "data": {
            "text/plain": [
              "<Figure size 640x480 with 0 Axes>"
            ]
          },
          "metadata": {}
        },
        {
          "output_type": "stream",
          "name": "stdout",
          "text": [
            "Generation 22, Min Error: 0.5480528, Mean Size: 5.933333333333334\n"
          ]
        },
        {
          "output_type": "display_data",
          "data": {
            "text/plain": [
              "<Figure size 640x480 with 0 Axes>"
            ]
          },
          "metadata": {}
        },
        {
          "output_type": "display_data",
          "data": {
            "text/plain": [
              "<Figure size 640x480 with 0 Axes>"
            ]
          },
          "metadata": {}
        },
        {
          "output_type": "stream",
          "name": "stdout",
          "text": [
            "Generation 23, Min Error: 0.5480528, Mean Size: 5.2\n"
          ]
        },
        {
          "output_type": "display_data",
          "data": {
            "text/plain": [
              "<Figure size 640x480 with 0 Axes>"
            ]
          },
          "metadata": {}
        },
        {
          "output_type": "display_data",
          "data": {
            "text/plain": [
              "<Figure size 640x480 with 0 Axes>"
            ]
          },
          "metadata": {}
        },
        {
          "output_type": "stream",
          "name": "stdout",
          "text": [
            "Generation 24, Min Error: 0.5480528, Mean Size: 5.1\n"
          ]
        },
        {
          "output_type": "display_data",
          "data": {
            "text/plain": [
              "<Figure size 640x480 with 0 Axes>"
            ]
          },
          "metadata": {}
        },
        {
          "output_type": "display_data",
          "data": {
            "text/plain": [
              "<Figure size 640x480 with 0 Axes>"
            ]
          },
          "metadata": {}
        },
        {
          "output_type": "stream",
          "name": "stdout",
          "text": [
            "Generation 25, Min Error: 0.5480528, Mean Size: 5.9\n"
          ]
        },
        {
          "output_type": "display_data",
          "data": {
            "text/plain": [
              "<Figure size 640x480 with 0 Axes>"
            ]
          },
          "metadata": {}
        },
        {
          "output_type": "display_data",
          "data": {
            "text/plain": [
              "<Figure size 640x480 with 0 Axes>"
            ]
          },
          "metadata": {}
        },
        {
          "output_type": "stream",
          "name": "stdout",
          "text": [
            "Generation 26, Min Error: 0.5480528, Mean Size: 5.6\n"
          ]
        },
        {
          "output_type": "display_data",
          "data": {
            "text/plain": [
              "<Figure size 640x480 with 0 Axes>"
            ]
          },
          "metadata": {}
        },
        {
          "output_type": "display_data",
          "data": {
            "text/plain": [
              "<Figure size 640x480 with 0 Axes>"
            ]
          },
          "metadata": {}
        },
        {
          "output_type": "stream",
          "name": "stdout",
          "text": [
            "Generation 27, Min Error: 0.5480528, Mean Size: 5.333333333333333\n"
          ]
        },
        {
          "output_type": "display_data",
          "data": {
            "text/plain": [
              "<Figure size 640x480 with 0 Axes>"
            ]
          },
          "metadata": {}
        },
        {
          "output_type": "display_data",
          "data": {
            "text/plain": [
              "<Figure size 640x480 with 0 Axes>"
            ]
          },
          "metadata": {}
        },
        {
          "output_type": "stream",
          "name": "stdout",
          "text": [
            "Generation 28, Min Error: 0.5480528, Mean Size: 4.4\n"
          ]
        },
        {
          "output_type": "display_data",
          "data": {
            "text/plain": [
              "<Figure size 640x480 with 0 Axes>"
            ]
          },
          "metadata": {}
        },
        {
          "output_type": "display_data",
          "data": {
            "text/plain": [
              "<Figure size 640x480 with 0 Axes>"
            ]
          },
          "metadata": {}
        },
        {
          "output_type": "stream",
          "name": "stdout",
          "text": [
            "Generation 29, Min Error: 0.5480528, Mean Size: 5.233333333333333\n"
          ]
        },
        {
          "output_type": "display_data",
          "data": {
            "text/plain": [
              "<Figure size 640x480 with 0 Axes>"
            ]
          },
          "metadata": {}
        },
        {
          "output_type": "display_data",
          "data": {
            "text/plain": [
              "<Figure size 640x480 with 0 Axes>"
            ]
          },
          "metadata": {}
        },
        {
          "output_type": "stream",
          "name": "stdout",
          "text": [
            "Generation 30, Min Error: 0.5480528, Mean Size: 5.033333333333333\n"
          ]
        },
        {
          "output_type": "display_data",
          "data": {
            "text/plain": [
              "<Figure size 640x480 with 0 Axes>"
            ]
          },
          "metadata": {}
        },
        {
          "output_type": "display_data",
          "data": {
            "text/plain": [
              "<Figure size 640x480 with 0 Axes>"
            ]
          },
          "metadata": {}
        },
        {
          "output_type": "stream",
          "name": "stdout",
          "text": [
            "Generation 31, Min Error: 0.5480528, Mean Size: 4.9\n"
          ]
        },
        {
          "output_type": "display_data",
          "data": {
            "text/plain": [
              "<Figure size 640x480 with 0 Axes>"
            ]
          },
          "metadata": {}
        },
        {
          "output_type": "display_data",
          "data": {
            "text/plain": [
              "<Figure size 640x480 with 0 Axes>"
            ]
          },
          "metadata": {}
        },
        {
          "output_type": "stream",
          "name": "stdout",
          "text": [
            "Generation 32, Min Error: 0.5480528, Mean Size: 4.733333333333333\n"
          ]
        },
        {
          "output_type": "display_data",
          "data": {
            "text/plain": [
              "<Figure size 640x480 with 0 Axes>"
            ]
          },
          "metadata": {}
        },
        {
          "output_type": "display_data",
          "data": {
            "text/plain": [
              "<Figure size 640x480 with 0 Axes>"
            ]
          },
          "metadata": {}
        },
        {
          "output_type": "stream",
          "name": "stdout",
          "text": [
            "Generation 33, Min Error: 0.5480528, Mean Size: 5.233333333333333\n"
          ]
        },
        {
          "output_type": "display_data",
          "data": {
            "text/plain": [
              "<Figure size 640x480 with 0 Axes>"
            ]
          },
          "metadata": {}
        },
        {
          "output_type": "display_data",
          "data": {
            "text/plain": [
              "<Figure size 640x480 with 0 Axes>"
            ]
          },
          "metadata": {}
        },
        {
          "output_type": "stream",
          "name": "stdout",
          "text": [
            "Generation 34, Min Error: 0.5480528, Mean Size: 5.233333333333333\n"
          ]
        },
        {
          "output_type": "display_data",
          "data": {
            "text/plain": [
              "<Figure size 640x480 with 0 Axes>"
            ]
          },
          "metadata": {}
        },
        {
          "output_type": "display_data",
          "data": {
            "text/plain": [
              "<Figure size 640x480 with 0 Axes>"
            ]
          },
          "metadata": {}
        },
        {
          "output_type": "stream",
          "name": "stdout",
          "text": [
            "Generation 35, Min Error: 0.5480528, Mean Size: 5.066666666666666\n"
          ]
        },
        {
          "output_type": "display_data",
          "data": {
            "text/plain": [
              "<Figure size 640x480 with 0 Axes>"
            ]
          },
          "metadata": {}
        },
        {
          "output_type": "display_data",
          "data": {
            "text/plain": [
              "<Figure size 640x480 with 0 Axes>"
            ]
          },
          "metadata": {}
        },
        {
          "output_type": "stream",
          "name": "stdout",
          "text": [
            "Generation 36, Min Error: 0.5480528, Mean Size: 4.1\n"
          ]
        },
        {
          "output_type": "display_data",
          "data": {
            "text/plain": [
              "<Figure size 640x480 with 0 Axes>"
            ]
          },
          "metadata": {}
        },
        {
          "output_type": "display_data",
          "data": {
            "text/plain": [
              "<Figure size 640x480 with 0 Axes>"
            ]
          },
          "metadata": {}
        },
        {
          "output_type": "stream",
          "name": "stdout",
          "text": [
            "Generation 37, Min Error: 0.5480528, Mean Size: 5.466666666666667\n"
          ]
        },
        {
          "output_type": "display_data",
          "data": {
            "text/plain": [
              "<Figure size 640x480 with 0 Axes>"
            ]
          },
          "metadata": {}
        },
        {
          "output_type": "display_data",
          "data": {
            "text/plain": [
              "<Figure size 640x480 with 0 Axes>"
            ]
          },
          "metadata": {}
        },
        {
          "output_type": "stream",
          "name": "stdout",
          "text": [
            "Generation 38, Min Error: 0.5480528, Mean Size: 5.5\n"
          ]
        },
        {
          "output_type": "display_data",
          "data": {
            "text/plain": [
              "<Figure size 640x480 with 0 Axes>"
            ]
          },
          "metadata": {}
        },
        {
          "output_type": "display_data",
          "data": {
            "text/plain": [
              "<Figure size 640x480 with 0 Axes>"
            ]
          },
          "metadata": {}
        },
        {
          "output_type": "stream",
          "name": "stdout",
          "text": [
            "Generation 39, Min Error: 0.5480528, Mean Size: 4.6\n"
          ]
        },
        {
          "output_type": "display_data",
          "data": {
            "text/plain": [
              "<Figure size 640x480 with 0 Axes>"
            ]
          },
          "metadata": {}
        },
        {
          "output_type": "display_data",
          "data": {
            "text/plain": [
              "<Figure size 640x480 with 0 Axes>"
            ]
          },
          "metadata": {}
        },
        {
          "output_type": "stream",
          "name": "stdout",
          "text": [
            "Generation 40, Min Error: 0.5480528, Mean Size: 4.866666666666666\n"
          ]
        },
        {
          "output_type": "display_data",
          "data": {
            "text/plain": [
              "<Figure size 640x480 with 0 Axes>"
            ]
          },
          "metadata": {}
        },
        {
          "output_type": "display_data",
          "data": {
            "text/plain": [
              "<Figure size 640x480 with 0 Axes>"
            ]
          },
          "metadata": {}
        },
        {
          "output_type": "stream",
          "name": "stdout",
          "text": [
            "Generation 41, Min Error: 0.5480528, Mean Size: 4.933333333333334\n"
          ]
        },
        {
          "output_type": "display_data",
          "data": {
            "text/plain": [
              "<Figure size 640x480 with 0 Axes>"
            ]
          },
          "metadata": {}
        },
        {
          "output_type": "display_data",
          "data": {
            "text/plain": [
              "<Figure size 640x480 with 0 Axes>"
            ]
          },
          "metadata": {}
        },
        {
          "output_type": "stream",
          "name": "stdout",
          "text": [
            "Generation 42, Min Error: 0.5480528, Mean Size: 4.366666666666666\n"
          ]
        },
        {
          "output_type": "display_data",
          "data": {
            "text/plain": [
              "<Figure size 640x480 with 0 Axes>"
            ]
          },
          "metadata": {}
        },
        {
          "output_type": "display_data",
          "data": {
            "text/plain": [
              "<Figure size 640x480 with 0 Axes>"
            ]
          },
          "metadata": {}
        },
        {
          "output_type": "stream",
          "name": "stdout",
          "text": [
            "Generation 43, Min Error: 0.5480528, Mean Size: 5.366666666666666\n"
          ]
        },
        {
          "output_type": "display_data",
          "data": {
            "text/plain": [
              "<Figure size 640x480 with 0 Axes>"
            ]
          },
          "metadata": {}
        },
        {
          "output_type": "display_data",
          "data": {
            "text/plain": [
              "<Figure size 640x480 with 0 Axes>"
            ]
          },
          "metadata": {}
        },
        {
          "output_type": "stream",
          "name": "stdout",
          "text": [
            "Generation 44, Min Error: 0.5480528, Mean Size: 5.366666666666666\n"
          ]
        },
        {
          "output_type": "display_data",
          "data": {
            "text/plain": [
              "<Figure size 640x480 with 0 Axes>"
            ]
          },
          "metadata": {}
        },
        {
          "output_type": "display_data",
          "data": {
            "text/plain": [
              "<Figure size 640x480 with 0 Axes>"
            ]
          },
          "metadata": {}
        },
        {
          "output_type": "stream",
          "name": "stdout",
          "text": [
            "Generation 45, Min Error: 0.5480528, Mean Size: 5.366666666666666\n"
          ]
        },
        {
          "output_type": "display_data",
          "data": {
            "text/plain": [
              "<Figure size 640x480 with 0 Axes>"
            ]
          },
          "metadata": {}
        },
        {
          "output_type": "display_data",
          "data": {
            "text/plain": [
              "<Figure size 640x480 with 0 Axes>"
            ]
          },
          "metadata": {}
        },
        {
          "output_type": "stream",
          "name": "stdout",
          "text": [
            "Generation 46, Min Error: 0.5480528, Mean Size: 4.766666666666667\n"
          ]
        },
        {
          "output_type": "display_data",
          "data": {
            "text/plain": [
              "<Figure size 640x480 with 0 Axes>"
            ]
          },
          "metadata": {}
        },
        {
          "output_type": "display_data",
          "data": {
            "text/plain": [
              "<Figure size 640x480 with 0 Axes>"
            ]
          },
          "metadata": {}
        },
        {
          "output_type": "stream",
          "name": "stdout",
          "text": [
            "Generation 47, Min Error: 0.5480528, Mean Size: 5.4\n"
          ]
        },
        {
          "output_type": "display_data",
          "data": {
            "text/plain": [
              "<Figure size 640x480 with 0 Axes>"
            ]
          },
          "metadata": {}
        },
        {
          "output_type": "display_data",
          "data": {
            "text/plain": [
              "<Figure size 640x480 with 0 Axes>"
            ]
          },
          "metadata": {}
        },
        {
          "output_type": "stream",
          "name": "stdout",
          "text": [
            "Generation 48, Min Error: 0.36121492277227724, Mean Size: 5.733333333333333\n"
          ]
        },
        {
          "output_type": "display_data",
          "data": {
            "text/plain": [
              "<Figure size 640x480 with 0 Axes>"
            ]
          },
          "metadata": {}
        },
        {
          "output_type": "display_data",
          "data": {
            "text/plain": [
              "<Figure size 640x480 with 0 Axes>"
            ]
          },
          "metadata": {}
        },
        {
          "output_type": "stream",
          "name": "stdout",
          "text": [
            "Generation 49, Min Error: 0.36121492277227724, Mean Size: 5.8\n"
          ]
        },
        {
          "output_type": "display_data",
          "data": {
            "text/plain": [
              "<Figure size 640x480 with 0 Axes>"
            ]
          },
          "metadata": {}
        },
        {
          "output_type": "display_data",
          "data": {
            "text/plain": [
              "<Figure size 640x480 with 0 Axes>"
            ]
          },
          "metadata": {}
        },
        {
          "output_type": "stream",
          "name": "stdout",
          "text": [
            "Generation 50, Min Error: 0.36121492277227724, Mean Size: 6.166666666666667\n"
          ]
        },
        {
          "output_type": "display_data",
          "data": {
            "text/plain": [
              "<Figure size 640x480 with 0 Axes>"
            ]
          },
          "metadata": {}
        },
        {
          "output_type": "display_data",
          "data": {
            "text/plain": [
              "<Figure size 640x480 with 0 Axes>"
            ]
          },
          "metadata": {}
        },
        {
          "output_type": "stream",
          "name": "stdout",
          "text": [
            "Generation 51, Min Error: 0.36121492277227724, Mean Size: 6.466666666666667\n"
          ]
        },
        {
          "output_type": "display_data",
          "data": {
            "text/plain": [
              "<Figure size 640x480 with 0 Axes>"
            ]
          },
          "metadata": {}
        },
        {
          "output_type": "display_data",
          "data": {
            "text/plain": [
              "<Figure size 640x480 with 0 Axes>"
            ]
          },
          "metadata": {}
        },
        {
          "output_type": "stream",
          "name": "stdout",
          "text": [
            "Generation 52, Min Error: 0.36121492277227724, Mean Size: 8.766666666666667\n"
          ]
        },
        {
          "output_type": "display_data",
          "data": {
            "text/plain": [
              "<Figure size 640x480 with 0 Axes>"
            ]
          },
          "metadata": {}
        },
        {
          "output_type": "display_data",
          "data": {
            "text/plain": [
              "<Figure size 640x480 with 0 Axes>"
            ]
          },
          "metadata": {}
        },
        {
          "output_type": "stream",
          "name": "stdout",
          "text": [
            "Generation 53, Min Error: 0.36121492277227724, Mean Size: 8\n"
          ]
        },
        {
          "output_type": "display_data",
          "data": {
            "text/plain": [
              "<Figure size 640x480 with 0 Axes>"
            ]
          },
          "metadata": {}
        },
        {
          "output_type": "display_data",
          "data": {
            "text/plain": [
              "<Figure size 640x480 with 0 Axes>"
            ]
          },
          "metadata": {}
        },
        {
          "output_type": "stream",
          "name": "stdout",
          "text": [
            "Generation 54, Min Error: 0.36121492277227724, Mean Size: 8.333333333333334\n"
          ]
        },
        {
          "output_type": "display_data",
          "data": {
            "text/plain": [
              "<Figure size 640x480 with 0 Axes>"
            ]
          },
          "metadata": {}
        },
        {
          "output_type": "stream",
          "name": "stdout",
          "text": [
            "________________________\n"
          ]
        },
        {
          "output_type": "display_data",
          "data": {
            "image/png": "[encoded data removed]",
            "text/plain": [
              "<IPython.core.display.Image object>"
            ]
          },
          "metadata": {}
        },
        {
          "output_type": "display_data",
          "data": {
            "text/plain": [
              "<Figure size 640x480 with 0 Axes>"
            ]
          },
          "metadata": {}
        },
        {
          "output_type": "stream",
          "name": "stdout",
          "text": [
            "Generation 55, Min Error: 0.2575247524752475, Mean Size: 7.833333333333333\n"
          ]
        },
        {
          "output_type": "display_data",
          "data": {
            "text/plain": [
              "<Figure size 640x480 with 0 Axes>"
            ]
          },
          "metadata": {}
        },
        {
          "output_type": "display_data",
          "data": {
            "text/plain": [
              "<Figure size 640x480 with 0 Axes>"
            ]
          },
          "metadata": {}
        },
        {
          "output_type": "stream",
          "name": "stdout",
          "text": [
            "Generation 56, Min Error: 0.2575247524752475, Mean Size: 7.366666666666666\n"
          ]
        },
        {
          "output_type": "display_data",
          "data": {
            "text/plain": [
              "<Figure size 640x480 with 0 Axes>"
            ]
          },
          "metadata": {}
        },
        {
          "output_type": "display_data",
          "data": {
            "text/plain": [
              "<Figure size 640x480 with 0 Axes>"
            ]
          },
          "metadata": {}
        },
        {
          "output_type": "stream",
          "name": "stdout",
          "text": [
            "Generation 57, Min Error: 0.36121492277227724, Mean Size: 6.9\n"
          ]
        },
        {
          "output_type": "display_data",
          "data": {
            "text/plain": [
              "<Figure size 640x480 with 0 Axes>"
            ]
          },
          "metadata": {}
        },
        {
          "output_type": "display_data",
          "data": {
            "text/plain": [
              "<Figure size 640x480 with 0 Axes>"
            ]
          },
          "metadata": {}
        },
        {
          "output_type": "stream",
          "name": "stdout",
          "text": [
            "Generation 58, Min Error: 0.36121492277227724, Mean Size: 7.666666666666667\n"
          ]
        },
        {
          "output_type": "display_data",
          "data": {
            "text/plain": [
              "<Figure size 640x480 with 0 Axes>"
            ]
          },
          "metadata": {}
        },
        {
          "output_type": "stream",
          "name": "stdout",
          "text": [
            "________________________\n"
          ]
        },
        {
          "output_type": "display_data",
          "data": {
            "image/png": "[encoded data removed]",
            "text/plain": [
              "<IPython.core.display.Image object>"
            ]
          },
          "metadata": {}
        },
        {
          "output_type": "display_data",
          "data": {
            "text/plain": [
              "<Figure size 640x480 with 0 Axes>"
            ]
          },
          "metadata": {}
        },
        {
          "output_type": "stream",
          "name": "stdout",
          "text": [
            "Generation 59, Min Error: 0.20805279999999995, Mean Size: 9.166666666666666\n"
          ]
        },
        {
          "output_type": "display_data",
          "data": {
            "text/plain": [
              "<Figure size 640x480 with 0 Axes>"
            ]
          },
          "metadata": {}
        },
        {
          "output_type": "display_data",
          "data": {
            "text/plain": [
              "<Figure size 640x480 with 0 Axes>"
            ]
          },
          "metadata": {}
        },
        {
          "output_type": "stream",
          "name": "stdout",
          "text": [
            "Generation 60, Min Error: 0.20805279999999995, Mean Size: 7.833333333333333\n"
          ]
        },
        {
          "output_type": "display_data",
          "data": {
            "text/plain": [
              "<Figure size 640x480 with 0 Axes>"
            ]
          },
          "metadata": {}
        },
        {
          "output_type": "display_data",
          "data": {
            "text/plain": [
              "<Figure size 640x480 with 0 Axes>"
            ]
          },
          "metadata": {}
        },
        {
          "output_type": "stream",
          "name": "stdout",
          "text": [
            "Generation 61, Min Error: 0.36121492277227724, Mean Size: 9.233333333333333\n"
          ]
        },
        {
          "output_type": "display_data",
          "data": {
            "text/plain": [
              "<Figure size 640x480 with 0 Axes>"
            ]
          },
          "metadata": {}
        },
        {
          "output_type": "display_data",
          "data": {
            "text/plain": [
              "<Figure size 640x480 with 0 Axes>"
            ]
          },
          "metadata": {}
        },
        {
          "output_type": "stream",
          "name": "stdout",
          "text": [
            "Generation 62, Min Error: 0.36121492277227724, Mean Size: 8.866666666666667\n"
          ]
        },
        {
          "output_type": "display_data",
          "data": {
            "text/plain": [
              "<Figure size 640x480 with 0 Axes>"
            ]
          },
          "metadata": {}
        },
        {
          "output_type": "display_data",
          "data": {
            "text/plain": [
              "<Figure size 640x480 with 0 Axes>"
            ]
          },
          "metadata": {}
        },
        {
          "output_type": "stream",
          "name": "stdout",
          "text": [
            "Generation 63, Min Error: 0.2575247524752475, Mean Size: 11.733333333333333\n"
          ]
        },
        {
          "output_type": "display_data",
          "data": {
            "text/plain": [
              "<Figure size 640x480 with 0 Axes>"
            ]
          },
          "metadata": {}
        },
        {
          "output_type": "display_data",
          "data": {
            "text/plain": [
              "<Figure size 640x480 with 0 Axes>"
            ]
          },
          "metadata": {}
        },
        {
          "output_type": "stream",
          "name": "stdout",
          "text": [
            "Generation 64, Min Error: 0.2575247524752475, Mean Size: 9.2\n"
          ]
        },
        {
          "output_type": "display_data",
          "data": {
            "text/plain": [
              "<Figure size 640x480 with 0 Axes>"
            ]
          },
          "metadata": {}
        },
        {
          "output_type": "display_data",
          "data": {
            "text/plain": [
              "<Figure size 640x480 with 0 Axes>"
            ]
          },
          "metadata": {}
        },
        {
          "output_type": "stream",
          "name": "stdout",
          "text": [
            "Generation 65, Min Error: 0.2575247524752475, Mean Size: 9.966666666666667\n"
          ]
        },
        {
          "output_type": "display_data",
          "data": {
            "text/plain": [
              "<Figure size 640x480 with 0 Axes>"
            ]
          },
          "metadata": {}
        },
        {
          "output_type": "display_data",
          "data": {
            "text/plain": [
              "<Figure size 640x480 with 0 Axes>"
            ]
          },
          "metadata": {}
        },
        {
          "output_type": "stream",
          "name": "stdout",
          "text": [
            "Generation 66, Min Error: 0.2575247524752475, Mean Size: 8.266666666666667\n"
          ]
        },
        {
          "output_type": "display_data",
          "data": {
            "text/plain": [
              "<Figure size 640x480 with 0 Axes>"
            ]
          },
          "metadata": {}
        },
        {
          "output_type": "display_data",
          "data": {
            "text/plain": [
              "<Figure size 640x480 with 0 Axes>"
            ]
          },
          "metadata": {}
        },
        {
          "output_type": "stream",
          "name": "stdout",
          "text": [
            "Generation 67, Min Error: 0.2575247524752475, Mean Size: 8.1\n"
          ]
        },
        {
          "output_type": "display_data",
          "data": {
            "text/plain": [
              "<Figure size 640x480 with 0 Axes>"
            ]
          },
          "metadata": {}
        },
        {
          "output_type": "display_data",
          "data": {
            "text/plain": [
              "<Figure size 640x480 with 0 Axes>"
            ]
          },
          "metadata": {}
        },
        {
          "output_type": "stream",
          "name": "stdout",
          "text": [
            "Generation 68, Min Error: 0.2575247524752475, Mean Size: 9.033333333333333\n"
          ]
        },
        {
          "output_type": "display_data",
          "data": {
            "text/plain": [
              "<Figure size 640x480 with 0 Axes>"
            ]
          },
          "metadata": {}
        },
        {
          "output_type": "display_data",
          "data": {
            "text/plain": [
              "<Figure size 640x480 with 0 Axes>"
            ]
          },
          "metadata": {}
        },
        {
          "output_type": "stream",
          "name": "stdout",
          "text": [
            "Generation 69, Min Error: 0.2575247524752475, Mean Size: 9.366666666666667\n"
          ]
        },
        {
          "output_type": "display_data",
          "data": {
            "text/plain": [
              "<Figure size 640x480 with 0 Axes>"
            ]
          },
          "metadata": {}
        },
        {
          "output_type": "display_data",
          "data": {
            "text/plain": [
              "<Figure size 640x480 with 0 Axes>"
            ]
          },
          "metadata": {}
        },
        {
          "output_type": "stream",
          "name": "stdout",
          "text": [
            "Generation 70, Min Error: 0.2575247524752475, Mean Size: 10.933333333333334\n"
          ]
        },
        {
          "output_type": "display_data",
          "data": {
            "text/plain": [
              "<Figure size 640x480 with 0 Axes>"
            ]
          },
          "metadata": {}
        },
        {
          "output_type": "display_data",
          "data": {
            "text/plain": [
              "<Figure size 640x480 with 0 Axes>"
            ]
          },
          "metadata": {}
        },
        {
          "output_type": "stream",
          "name": "stdout",
          "text": [
            "Generation 71, Min Error: 0.2575247524752475, Mean Size: 11.1\n"
          ]
        },
        {
          "output_type": "display_data",
          "data": {
            "text/plain": [
              "<Figure size 640x480 with 0 Axes>"
            ]
          },
          "metadata": {}
        },
        {
          "output_type": "display_data",
          "data": {
            "text/plain": [
              "<Figure size 640x480 with 0 Axes>"
            ]
          },
          "metadata": {}
        },
        {
          "output_type": "stream",
          "name": "stdout",
          "text": [
            "Generation 72, Min Error: 0.2575247524752475, Mean Size: 12.466666666666667\n"
          ]
        },
        {
          "output_type": "display_data",
          "data": {
            "text/plain": [
              "<Figure size 640x480 with 0 Axes>"
            ]
          },
          "metadata": {}
        },
        {
          "output_type": "stream",
          "name": "stdout",
          "text": [
            "________________________\n"
          ]
        },
        {
          "output_type": "display_data",
          "data": {
            "image/png": "[encoded data removed]",
            "text/plain": [
              "<IPython.core.display.Image object>"
            ]
          },
          "metadata": {}
        },
        {
          "output_type": "display_data",
          "data": {
            "text/plain": [
              "<Figure size 640x480 with 0 Axes>"
            ]
          },
          "metadata": {}
        },
        {
          "output_type": "stream",
          "name": "stdout",
          "text": [
            "Generation 73, Min Error: 0.13194720000000001, Mean Size: 15.8\n"
          ]
        },
        {
          "output_type": "display_data",
          "data": {
            "text/plain": [
              "<Figure size 640x480 with 0 Axes>"
            ]
          },
          "metadata": {}
        },
        {
          "output_type": "display_data",
          "data": {
            "text/plain": [
              "<Figure size 640x480 with 0 Axes>"
            ]
          },
          "metadata": {}
        },
        {
          "output_type": "stream",
          "name": "stdout",
          "text": [
            "Generation 74, Min Error: 0.13194720000000001, Mean Size: 19.266666666666666\n"
          ]
        },
        {
          "output_type": "display_data",
          "data": {
            "text/plain": [
              "<Figure size 640x480 with 0 Axes>"
            ]
          },
          "metadata": {}
        },
        {
          "output_type": "display_data",
          "data": {
            "text/plain": [
              "<Figure size 640x480 with 0 Axes>"
            ]
          },
          "metadata": {}
        },
        {
          "output_type": "stream",
          "name": "stdout",
          "text": [
            "Generation 75, Min Error: 0.13194720000000001, Mean Size: 22.733333333333334\n"
          ]
        },
        {
          "output_type": "display_data",
          "data": {
            "text/plain": [
              "<Figure size 640x480 with 0 Axes>"
            ]
          },
          "metadata": {}
        },
        {
          "output_type": "display_data",
          "data": {
            "text/plain": [
              "<Figure size 640x480 with 0 Axes>"
            ]
          },
          "metadata": {}
        },
        {
          "output_type": "stream",
          "name": "stdout",
          "text": [
            "Generation 76, Min Error: 0.13194720000000001, Mean Size: 22.166666666666668\n"
          ]
        },
        {
          "output_type": "display_data",
          "data": {
            "text/plain": [
              "<Figure size 640x480 with 0 Axes>"
            ]
          },
          "metadata": {}
        },
        {
          "output_type": "display_data",
          "data": {
            "text/plain": [
              "<Figure size 640x480 with 0 Axes>"
            ]
          },
          "metadata": {}
        },
        {
          "output_type": "stream",
          "name": "stdout",
          "text": [
            "Generation 77, Min Error: 0.13194720000000001, Mean Size: 23.966666666666665\n"
          ]
        },
        {
          "output_type": "display_data",
          "data": {
            "text/plain": [
              "<Figure size 640x480 with 0 Axes>"
            ]
          },
          "metadata": {}
        },
        {
          "output_type": "display_data",
          "data": {
            "text/plain": [
              "<Figure size 640x480 with 0 Axes>"
            ]
          },
          "metadata": {}
        },
        {
          "output_type": "stream",
          "name": "stdout",
          "text": [
            "Generation 78, Min Error: 0.13194720000000001, Mean Size: 24.4\n"
          ]
        },
        {
          "output_type": "display_data",
          "data": {
            "text/plain": [
              "<Figure size 640x480 with 0 Axes>"
            ]
          },
          "metadata": {}
        },
        {
          "output_type": "stream",
          "name": "stdout",
          "text": [
            "________________________\n"
          ]
        },
        {
          "output_type": "display_data",
          "data": {
            "image/png": "[encoded data removed]",
            "text/plain": [
              "<IPython.core.display.Image object>"
            ]
          },
          "metadata": {}
        },
        {
          "output_type": "display_data",
          "data": {
            "text/plain": [
              "<Figure size 640x480 with 0 Axes>"
            ]
          },
          "metadata": {}
        },
        {
          "output_type": "stream",
          "name": "stdout",
          "text": [
            "_________________________________________________\n",
            "END OF RUN (bloat control was OFF)\n"
          ]
        },
        {
          "output_type": "display_data",
          "data": {
            "image/png": "[encoded data removed]",
            "text/plain": [
              "<IPython.core.display.Image object>"
            ]
          },
          "metadata": {}
        }
      ]
    }
  ]
}