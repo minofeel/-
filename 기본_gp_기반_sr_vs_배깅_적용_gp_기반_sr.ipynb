{
  "nbformat": 4,
  "nbformat_minor": 0,
  "metadata": {
    "colab": {
      "provenance": [],
      "authorship_tag": "ABX9TyOMqJ29MmweShiixR0G3pxM",
      "include_colab_link": true
    },
    "kernelspec": {
      "name": "python3",
      "display_name": "Python 3"
    },
    "language_info": {
      "name": "python"
    }
  },
  "cells": [
    {
      "cell_type": "markdown",
      "metadata": {
        "id": "view-in-github",
        "colab_type": "text"
      },
      "source": [
        "<a href=\"https://colab.research.google.com/github/minofeel/-/blob/main/%EA%B8%B0%EB%B3%B8_gp_%EA%B8%B0%EB%B0%98_sr_vs_%EB%B0%B0%EA%B9%85_%EC%A0%81%EC%9A%A9_gp_%EA%B8%B0%EB%B0%98_sr.ipynb\" target=\"_parent\"><img src=\"https://colab.research.google.com/assets/colab-badge.svg\" alt=\"Open In Colab\"/></a>"
      ]
    },
    {
      "cell_type": "code",
      "execution_count": 1,
      "metadata": {
        "colab": {
          "base_uri": "https://localhost:8080/"
        },
        "id": "ECylDYFqR5oU",
        "outputId": "19a8224f-7295-4188-c16f-ddfdff48a72a"
      },
      "outputs": [
        {
          "output_type": "stream",
          "name": "stdout",
          "text": [
            "Collecting pmlb\n",
            "  Downloading pmlb-1.0.1.post3-py3-none-any.whl.metadata (1.7 kB)\n",
            "Requirement already satisfied: scikit-learn in /usr/local/lib/python3.10/dist-packages (1.5.2)\n",
            "Collecting gplearn\n",
            "  Downloading gplearn-0.4.2-py3-none-any.whl.metadata (4.3 kB)\n",
            "Requirement already satisfied: pandas>=1.0.5 in /usr/local/lib/python3.10/dist-packages (from pmlb) (2.2.2)\n",
            "Requirement already satisfied: requests>=2.24.0 in /usr/local/lib/python3.10/dist-packages (from pmlb) (2.32.3)\n",
            "Requirement already satisfied: pyyaml>=5.3.1 in /usr/local/lib/python3.10/dist-packages (from pmlb) (6.0.2)\n",
            "Requirement already satisfied: numpy>=1.19.5 in /usr/local/lib/python3.10/dist-packages (from scikit-learn) (1.26.4)\n",
            "Requirement already satisfied: scipy>=1.6.0 in /usr/local/lib/python3.10/dist-packages (from scikit-learn) (1.13.1)\n",
            "Requirement already satisfied: joblib>=1.2.0 in /usr/local/lib/python3.10/dist-packages (from scikit-learn) (1.4.2)\n",
            "Requirement already satisfied: threadpoolctl>=3.1.0 in /usr/local/lib/python3.10/dist-packages (from scikit-learn) (3.5.0)\n",
            "Requirement already satisfied: python-dateutil>=2.8.2 in /usr/local/lib/python3.10/dist-packages (from pandas>=1.0.5->pmlb) (2.8.2)\n",
            "Requirement already satisfied: pytz>=2020.1 in /usr/local/lib/python3.10/dist-packages (from pandas>=1.0.5->pmlb) (2024.2)\n",
            "Requirement already satisfied: tzdata>=2022.7 in /usr/local/lib/python3.10/dist-packages (from pandas>=1.0.5->pmlb) (2024.2)\n",
            "Requirement already satisfied: charset-normalizer<4,>=2 in /usr/local/lib/python3.10/dist-packages (from requests>=2.24.0->pmlb) (3.4.0)\n",
            "Requirement already satisfied: idna<4,>=2.5 in /usr/local/lib/python3.10/dist-packages (from requests>=2.24.0->pmlb) (3.10)\n",
            "Requirement already satisfied: urllib3<3,>=1.21.1 in /usr/local/lib/python3.10/dist-packages (from requests>=2.24.0->pmlb) (2.2.3)\n",
            "Requirement already satisfied: certifi>=2017.4.17 in /usr/local/lib/python3.10/dist-packages (from requests>=2.24.0->pmlb) (2024.8.30)\n",
            "Requirement already satisfied: six>=1.5 in /usr/local/lib/python3.10/dist-packages (from python-dateutil>=2.8.2->pandas>=1.0.5->pmlb) (1.16.0)\n",
            "Downloading pmlb-1.0.1.post3-py3-none-any.whl (19 kB)\n",
            "Downloading gplearn-0.4.2-py3-none-any.whl (25 kB)\n",
            "Installing collected packages: pmlb, gplearn\n",
            "Successfully installed gplearn-0.4.2 pmlb-1.0.1.post3\n"
          ]
        }
      ],
      "source": [
        "!pip install pmlb scikit-learn gplearn\n",
        "\n",
        "# gplearn에서 SymbolicRegressor 임포트\n",
        "from gplearn.genetic import SymbolicRegressor\n",
        "from sklearn.metrics import mean_absolute_error\n",
        "import pandas as pd\n",
        "import numpy as np\n",
        "from pmlb import fetch_data\n",
        "from sklearn.model_selection import train_test_split"
      ]
    },
    {
      "cell_type": "code",
      "source": [
        "# 데이터셋 로드 및 분할 함수\n",
        "def load_and_split_dataset(dataset_name):\n",
        "    data = fetch_data(dataset_name)\n",
        "    X = data.iloc[:, :-1]  # 입력 데이터 (features)\n",
        "    y = data.iloc[:, -1]   # 타겟 데이터 (target)\n",
        "    return train_test_split(X, y, test_size=0.3, random_state=42)"
      ],
      "metadata": {
        "id": "_1CUZ_4kR8ax"
      },
      "execution_count": 2,
      "outputs": []
    },
    {
      "cell_type": "code",
      "source": [
        "# 62개 회귀 데이터셋 리스트\n",
        "datasets = ['1027_ESL', '1029_LEV', '1030_ERA', '1089_USCrime', '1096_FacultySalaries']"
      ],
      "metadata": {
        "id": "hwYDlzvqR-Ns"
      },
      "execution_count": 3,
      "outputs": []
    },
    {
      "cell_type": "code",
      "source": [
        "# 각 데이터셋의 학습/테스트 데이터 분리 저장\n",
        "train_test_splits = {}\n",
        "for dataset in datasets:\n",
        "    train_test_splits[dataset] = load_and_split_dataset(dataset)"
      ],
      "metadata": {
        "id": "40hu4-CSSD4S"
      },
      "execution_count": 4,
      "outputs": []
    },
    {
      "cell_type": "code",
      "source": [
        "# 유전 프로그래밍 모델 설정\n",
        "model = SymbolicRegressor(\n",
        "    population_size=1000,\n",
        "    generations=20,\n",
        "    stopping_criteria=0.01,\n",
        "    function_set=('add', 'sub', 'mul', 'div'),\n",
        "    metric='mean absolute error',  # MAE로 설정\n",
        "    parsimony_coefficient=0.01,\n",
        "    verbose=1,\n",
        "    random_state=42,\n",
        "    n_jobs=-1\n",
        ")"
      ],
      "metadata": {
        "id": "a9Fw3XAcSGQd"
      },
      "execution_count": 10,
      "outputs": []
    },
    {
      "cell_type": "code",
      "source": [
        "# 결과 저장 딕셔너리\n",
        "results = {}\n"
      ],
      "metadata": {
        "id": "XMrq0wJISJvz"
      },
      "execution_count": 11,
      "outputs": []
    },
    {
      "cell_type": "code",
      "source": [
        "# 각 데이터셋에 대해 모델 학습 및 성능 평가\n",
        "for dataset_name, (X_train, X_test, y_train, y_test) in train_test_splits.items():\n",
        "    print(f\"Running GP on dataset: {dataset_name}\")\n",
        "\n",
        "    # 모델 학습\n",
        "    model.fit(X_train, y_train)\n",
        "\n",
        "    # 예측값 생성 및 성능 평가 (MAE)\n",
        "    y_pred = model.predict(X_test)\n",
        "    mae = mean_absolute_error(y_test, y_pred)\n",
        "\n",
        "    # 결과 저장\n",
        "    results[dataset_name] = {'mae': mae}\n",
        "    print(f\"Dataset: {dataset_name}, MAE: {mae}\")"
      ],
      "metadata": {
        "colab": {
          "base_uri": "https://localhost:8080/"
        },
        "id": "NGqeKEf4SKoh",
        "outputId": "defde181-a9f5-4075-9888-38ee23b3146a"
      },
      "execution_count": 12,
      "outputs": [
        {
          "output_type": "stream",
          "name": "stdout",
          "text": [
            "Running GP on dataset: 1027_ESL\n",
            "    |   Population Average    |             Best Individual              |\n",
            "---- ------------------------- ------------------------------------------ ----------\n",
            " Gen   Length          Fitness   Length          Fitness      OOB Fitness  Time Left\n",
            "   0    28.22      1.05529e+06        5         0.516129              N/A     50.67s\n",
            "   1     9.06           6.2784        9         0.516129              N/A     20.14s\n",
            "   2     4.37           4.5598        1         0.516129              N/A     48.37s\n",
            "   3     1.48          1.50989        1         0.516129              N/A     39.54s\n",
            "   4     1.05          1.57213        1         0.516129              N/A     24.62s\n",
            "   5     1.05           0.7041        1         0.516129              N/A     26.13s\n",
            "   6     1.02         0.551415        1         0.516129              N/A     22.10s\n",
            "   7     1.06           7.0645        1         0.516129              N/A     12.17s\n",
            "   8     1.11         0.774733        1         0.516129              N/A      9.03s\n",
            "   9     1.07         0.776328        1         0.516129              N/A      7.79s\n",
            "  10     1.05          3.12397        1         0.516129              N/A      6.91s\n",
            "  11     1.02         0.594777        1         0.516129              N/A      6.33s\n",
            "  12     1.04          0.55316       15         0.504534              N/A     10.13s\n",
            "  13     1.02          0.62495        1         0.516129              N/A      7.31s\n",
            "  14     1.02         0.591199        1         0.516129              N/A      7.45s\n",
            "  15     1.06         0.938599        1         0.516129              N/A      3.87s\n",
            "  16     1.08          2.10664        1         0.516129              N/A      2.33s\n",
            "  17     1.01         0.532491        1         0.516129              N/A      1.55s\n",
            "  18     1.05         0.974507        1         0.516129              N/A      0.78s\n",
            "  19     1.01         0.564926        1         0.516129              N/A      0.00s\n",
            "Dataset: 1027_ESL, MAE: 0.5578231292517006\n",
            "Running GP on dataset: 1029_LEV\n",
            "    |   Population Average    |             Best Individual              |\n",
            "---- ------------------------- ------------------------------------------ ----------\n",
            " Gen   Length          Fitness   Length          Fitness      OOB Fitness  Time Left\n",
            "   0    28.22          142.277       15         0.652375              N/A     16.53s\n",
            "   1     8.29          17.1221        7         0.562262              N/A     14.27s\n",
            "   2     5.45          1.44681        7         0.562262              N/A     15.34s\n",
            "   3     3.21         0.962297       19          0.52608              N/A     13.51s\n",
            "   4     6.24          1.19635       19          0.52608              N/A     12.53s\n",
            "   5     7.02         0.986124       15         0.521795              N/A     11.35s\n",
            "   6     6.87         0.908131        7         0.544094              N/A     10.43s\n",
            "   7     6.95         0.979365        7         0.544094              N/A     13.86s\n",
            "   8     7.04         0.938378        7         0.544094              N/A     15.35s\n",
            "   9     6.96         0.938487        7         0.544094              N/A     13.10s\n",
            "  10     7.07         0.940814        7         0.544094              N/A     12.54s\n",
            "  11     6.91         0.930078        7         0.544094              N/A      6.64s\n",
            "  12     7.08         0.915749        7         0.544094              N/A      8.04s\n",
            "  13     6.89         0.892654        7         0.544094              N/A      7.92s\n",
            "  14     6.88         0.908243        7         0.544094              N/A      4.09s\n",
            "  15     7.02         0.945372        7         0.544094              N/A      3.34s\n",
            "  16     7.11          1.04345        7         0.544094              N/A      2.68s\n",
            "  17     7.02         0.928629        7         0.544094              N/A      1.90s\n",
            "  18     6.91         0.932625        7         0.544094              N/A      0.86s\n",
            "  19     7.04         0.915749        7         0.544094              N/A      0.00s\n",
            "Dataset: 1029_LEV, MAE: 0.6334525941119512\n",
            "Running GP on dataset: 1030_ERA\n",
            "    |   Population Average    |             Best Individual              |\n",
            "---- ------------------------- ------------------------------------------ ----------\n",
            " Gen   Length          Fitness   Length          Fitness      OOB Fitness  Time Left\n",
            "   0    28.22       8.9337e+07       11          1.85726              N/A     15.90s\n",
            "   1     9.54           11.945       13           1.6067              N/A     22.36s\n",
            "   2     6.17          6.37492       13          1.34713              N/A     23.67s\n",
            "   3     6.76          5.14256       15          1.34558              N/A     24.66s\n",
            "   4     9.20          4.55731       15          1.31556              N/A     18.43s\n",
            "   5     8.06          4.10952       15          1.31556              N/A     13.27s\n",
            "   6     6.87          4.18769       13          1.34713              N/A     10.71s\n",
            "   7     6.96          42.0266        7          1.36596              N/A      9.93s\n",
            "   8     7.04          5.46848        7          1.36596              N/A      9.20s\n",
            "   9     6.99          4.66458        7          1.36596              N/A      8.52s\n",
            "  10     7.09          6.67975        7          1.36596              N/A      7.27s\n",
            "  11     6.88          5.31334        7          1.36596              N/A      7.18s\n",
            "  12     7.10           5.1814        7          1.36596              N/A      5.87s\n",
            "  13     6.90          3.88066        7          1.36596              N/A      5.59s\n",
            "  14     6.95          5.41913        7          1.36596              N/A      4.21s\n",
            "  15     7.04          5.85285        7          1.36596              N/A      3.26s\n",
            "  16     7.13          20.7363        7          1.36596              N/A      3.97s\n",
            "  17     6.96          4.36207        7          1.36596              N/A      3.05s\n",
            "  18     7.05          5.72328        7          1.36596              N/A      1.63s\n",
            "  19     6.95          4.20092        7          1.36596              N/A      0.00s\n",
            "Dataset: 1030_ERA, MAE: 1.3855674100200335\n",
            "Running GP on dataset: 1089_USCrime\n",
            "    |   Population Average    |             Best Individual              |\n",
            "---- ------------------------- ------------------------------------------ ----------\n",
            " Gen   Length          Fitness   Length          Fitness      OOB Fitness  Time Left\n",
            "   0    23.69      1.19542e+20        3          33.8438              N/A     15.51s\n",
            "   1     5.64          4872.18        5          31.3438              N/A     13.92s\n",
            "   2     4.39      9.56169e+11        7          28.7188              N/A     13.30s\n",
            "   3     3.61          72.3901        9          28.6879              N/A     12.55s\n",
            "   4     5.44          448.592        9          28.6879              N/A     11.43s\n",
            "   5     6.96          2085.19       11           28.657              N/A     11.78s\n",
            "   6     8.02          117.968       11           28.657              N/A     10.51s\n",
            "   7     9.60          32142.8       15          28.5953              N/A      9.86s\n",
            "   8    11.70          476.961        7          24.5332              N/A      8.93s\n",
            "   9    15.37          11881.3       15          23.9747              N/A      9.22s\n",
            "  10    20.98          85.6989       33          23.6305              N/A      7.75s\n",
            "  11    20.06          128.795       41          23.5071              N/A     10.44s\n",
            "  12    33.77          202.632       33          23.4739              N/A     11.00s\n",
            "  13    38.85          272.688       49          23.3592              N/A      9.67s\n",
            "  14    39.24          77.7345       41            23.25              N/A      5.49s\n",
            "  15    38.19          119.971       45          23.1495              N/A      3.83s\n",
            "  16    40.60          90.0045       45          23.0562              N/A      3.21s\n",
            "  17    39.38          83.1103       45          22.9628              N/A      1.90s\n",
            "  18    39.49          110.648       47           22.807              N/A      1.02s\n",
            "  19    37.58          99.1574       37          22.6527              N/A      0.00s\n",
            "Dataset: 1089_USCrime, MAE: 27.888606063299935\n",
            "Running GP on dataset: 1096_FacultySalaries\n",
            "    |   Population Average    |             Best Individual              |\n",
            "---- ------------------------- ------------------------------------------ ----------\n",
            " Gen   Length          Fitness   Length          Fitness      OOB Fitness  Time Left\n",
            "   0    28.22      1.32097e+12        5            1.532              N/A     15.73s\n",
            "   1    13.13          1451.25        5            1.532              N/A     14.36s\n",
            "   2    10.04          514.607       11          1.13432              N/A     13.94s\n",
            "   3     6.97          267.061       11          1.13432              N/A     12.56s\n",
            "   4     6.07          20202.7       11          1.13432              N/A     13.60s\n",
            "   5     7.53          452.042       11          1.12842              N/A     17.71s\n",
            "   6     9.75          383.299       11          1.12842              N/A     18.53s\n",
            "   7    10.88          675.515       11          1.12842              N/A     19.47s\n",
            "   8    10.95          502.414       11          1.12842              N/A     11.38s\n",
            "   9    10.95          537.544       11          1.12842              N/A      8.72s\n",
            "  10    11.17           500.33       11          1.12842              N/A      7.96s\n",
            "  11    10.70          473.339       11          1.12842              N/A      6.77s\n",
            "  12    11.22          412.193       11          1.12842              N/A      7.04s\n",
            "  13    10.86          677.855       11          1.12842              N/A      4.82s\n",
            "  14    10.75          1975.38       11          1.12842              N/A      4.27s\n",
            "  15    11.00           637.51       11          1.12842              N/A      3.43s\n",
            "  16    11.02          442.747       11          1.12842              N/A      2.56s\n",
            "  17    10.75          758.801       11          1.12842              N/A      1.73s\n",
            "  18    11.05          452.621       11          1.12842              N/A      0.95s\n",
            "  19    10.89          600.714       11          1.12842              N/A      0.00s\n",
            "Dataset: 1096_FacultySalaries, MAE: 1.5577678525103542\n"
          ]
        }
      ]
    },
    {
      "cell_type": "code",
      "source": [
        "from sklearn.ensemble import BaggingRegressor\n",
        "from gplearn.genetic import SymbolicRegressor\n",
        "from sklearn.metrics import mean_absolute_error\n",
        "\n",
        "# 유전 프로그래밍 모델 설정\n",
        "base_model = SymbolicRegressor(\n",
        "    population_size=1000,\n",
        "    generations=20,\n",
        "    stopping_criteria=0.01,\n",
        "    function_set=('add', 'sub', 'mul', 'div'),\n",
        "    metric='mean absolute error',  # MAE로 설정\n",
        "    parsimony_coefficient=0.01,\n",
        "    verbose=1,\n",
        "    random_state=42,\n",
        "    n_jobs=-1\n",
        ")\n",
        "\n",
        "# Bagging 앙상블 모델 설정 (base_estimator 대신 estimator 사용)\n",
        "ensemble_model = BaggingRegressor(\n",
        "    estimator=base_model,  # 기본 유전 프로그래밍 모델\n",
        "    n_estimators=10,       # 앙상블할 모델 개수 (여기서는 10개)\n",
        "    random_state=42,\n",
        "    n_jobs=-1              # 병렬 처리 사용\n",
        ")\n",
        "\n",
        "# 결과 저장 딕셔너리\n",
        "results = {}\n",
        "\n",
        "# 각 데이터셋에 대해 모델 학습 및 성능 평가\n",
        "for dataset_name, (X_train, X_test, y_train, y_test) in train_test_splits.items():\n",
        "    print(f\"Running GP on dataset: {dataset_name}\")\n",
        "\n",
        "    # 앙상블 모델 학습\n",
        "    ensemble_model.fit(X_train, y_train)\n",
        "\n",
        "    # 예측값 생성 및 성능 평가 (MAE)\n",
        "    y_pred = ensemble_model.predict(X_test)\n",
        "    mae = mean_absolute_error(y_test, y_pred)\n",
        "\n",
        "    # 결과 저장\n",
        "    results[dataset_name] = {'mae': mae}\n",
        "    print(f\"Dataset: {dataset_name}, MAE: {mae}\")"
      ],
      "metadata": {
        "colab": {
          "base_uri": "https://localhost:8080/"
        },
        "id": "UnOweV-uTW6O",
        "outputId": "a6599326-0396-404c-f63f-7613b39eba02"
      },
      "execution_count": 14,
      "outputs": [
        {
          "output_type": "stream",
          "name": "stdout",
          "text": [
            "Running GP on dataset: 1027_ESL\n",
            "Dataset: 1027_ESL, MAE: 0.5578231292517006\n",
            "Running GP on dataset: 1029_LEV\n",
            "Dataset: 1029_LEV, MAE: 0.6198891941406839\n",
            "Running GP on dataset: 1030_ERA\n",
            "Dataset: 1030_ERA, MAE: 1.3471958210324222\n",
            "Running GP on dataset: 1089_USCrime\n",
            "Dataset: 1089_USCrime, MAE: 16.347861815669383\n",
            "Running GP on dataset: 1096_FacultySalaries\n",
            "Dataset: 1096_FacultySalaries, MAE: 1.563635222383625\n"
          ]
        }
      ]
    }
  ]
}